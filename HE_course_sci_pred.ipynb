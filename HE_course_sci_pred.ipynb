{
 "cells": [
  {
   "cell_type": "markdown",
   "metadata": {},
   "source": [
    "# Science/non-science course prediction\n",
    "\n",
    "This notebook contains a deep learning model which predicts whether a given higher education course is categorised into a 'Science', 'Non-science' or 'Combination' subject group based on its' title.\n",
    "\n",
    "The Pytorch model comprises of:\n",
    "- Embedding layer with averaged outputs\n",
    "- Linear layer\n",
    "- ReLu hidden layer\n",
    "- Linear output layer\n",
    "\n",
    "The model uses CrossEntropyLoss for the loss function and Adam for the opimizer.\n",
    "\n",
    "Overall accuracy of the model on test data is 93%, however this is not a useful metric as the data is heavily imbalanced. Across the three categories, precision of the model on test data is 93%, 93% and 83% for 'Science', 'Non-science' or 'Combination' respectively."
   ]
  },
  {
   "cell_type": "code",
   "execution_count": 1,
   "metadata": {},
   "outputs": [],
   "source": [
    "import pandas as pd\n",
    "import numpy as np\n",
    "from sklearn.model_selection import train_test_split\n",
    "from nltk.corpus import stopwords\n",
    "from nltk.stem import PorterStemmer\n",
    "from torchtext.data.utils import get_tokenizer\n",
    "import nltk\n",
    "import torch\n",
    "import matplotlib.pyplot as plt\n",
    "import torch\n",
    "from torchtext.data.utils import get_tokenizer\n",
    "from torchtext.vocab import build_vocab_from_iterator\n",
    "from torch.utils.data import DataLoader, Dataset\n",
    "from torch.nn.utils.rnn import pad_sequence\n",
    "from torchmetrics import Accuracy, F1Score, Precision, Recall\n",
    "from sklearn.metrics import precision_recall_fscore_support as score"
   ]
  },
  {
   "cell_type": "markdown",
   "metadata": {},
   "source": [
    "## Import and clean data\n",
    "\n",
    "Data source: https://www.hesa.ac.uk/collection/c24061/"
   ]
  },
  {
   "cell_type": "code",
   "execution_count": 2,
   "metadata": {},
   "outputs": [
    {
     "name": "stderr",
     "output_type": "stream",
     "text": [
      "C:\\Users\\alexc\\AppData\\Local\\Temp\\ipykernel_10052\\3306860898.py:4: DtypeWarning: Columns (3,5,7,10,22,27,29) have mixed types. Specify dtype option on import or set low_memory=False.\n",
      "  hesa_dat = pd.read_csv(hesa_loc)\n"
     ]
    }
   ],
   "source": [
    "hesa_file = f\"KISCOURSE\"\n",
    "hesa_folder = \"on_2024_12_10_12_18_55\"\n",
    "hesa_loc = f\"data/hesa/{hesa_folder}/{hesa_file}.csv\"\n",
    "hesa_dat = pd.read_csv(hesa_loc)\n",
    "\n",
    "hecos_cah_lookup_loc = f\"data/lookups/HECoS_CAH_Mappings.csv\"\n",
    "hecos_cah_lookup = pd.read_csv(hecos_cah_lookup_loc)\n",
    "\n",
    "cah_level = 1\n",
    "\n",
    "melted = hesa_dat[['UKPRN','HECOS', 'HECOS.1', 'HECOS.2', 'HECOS.3', 'HECOS.4', 'KISCOURSEID']].melt(id_vars=['UKPRN', 'KISCOURSEID'])\n",
    "\n",
    "deduped = melted.drop(columns=\"variable\").query(\"~value.isna()\", engine=\"python\").drop_duplicates()\n",
    "deduped['value'] = deduped['value'].astype(\"int\")\n",
    "\n",
    "cah3_merged = pd.merge(deduped, hecos_cah_lookup[['HECoS_Code',f'CAH{cah_level}_Code']],\n",
    "                       left_on=\"value\", right_on=\"HECoS_Code\", how=\"left\")\n",
    "cah3_merged['science'] = np.where(cah3_merged['CAH1_Code']<=13, 1, 0)\n",
    "\n",
    "cah3_merged1 = cah3_merged.groupby(\"KISCOURSEID\").agg({\"science\":[\"max\", \"nunique\"]}).reset_index()\n",
    "cah3_merged1.columns = cah3_merged1.columns.droplevel(0)\n",
    "cah3_merged1 = cah3_merged1.rename(columns={'':\"KISCOURSEID\"})\n",
    "cah3_merged1['cat'] = np.where(cah3_merged1['nunique']==2,\n",
    "                               2,\n",
    "                               cah3_merged1['max'])\n",
    "cah3_merged1 = cah3_merged1[['KISCOURSEID', 'cat']]\n",
    "\n",
    "cah3_merged2 = cah3_merged1.merge(hesa_dat[['KISCOURSEID', 'TITLE']])\n",
    "\n",
    "cah3_merged2 = cah3_merged2.drop_duplicates(subset='KISCOURSEID').drop(columns=\"KISCOURSEID\")\n",
    "\n"
   ]
  },
  {
   "cell_type": "markdown",
   "metadata": {},
   "source": [
    "## Preprocess course titles"
   ]
  },
  {
   "cell_type": "code",
   "execution_count": 6,
   "metadata": {},
   "outputs": [
    {
     "name": "stderr",
     "output_type": "stream",
     "text": [
      "[nltk_data] Downloading package stopwords to\n",
      "[nltk_data]     C:\\Users\\alexc\\AppData\\Roaming\\nltk_data...\n",
      "[nltk_data]   Package stopwords is already up-to-date!\n"
     ]
    }
   ],
   "source": [
    "nltk.download('stopwords')\n",
    "\n",
    "# Create a list of stopwords\n",
    "stop_words = set(stopwords.words(\"english\"))\n",
    "additional_stopwords = [\"(\", \")\", \",\", \"/\", \"&\", \"foundation\",\n",
    "                        \"placement\", \"year\", \"integrated\",\n",
    "                        \"bsc\", \"professional\", \"abroad\", \"4yr\", \"5yr\"]\n",
    "for additional_stopword in additional_stopwords:\n",
    "    stop_words.add(additional_stopword)\n",
    "\n",
    "# Initialize the tokenizer and stemmer\n",
    "tokenizer = get_tokenizer(\"basic_english\")\n",
    "stemmer = PorterStemmer() \n",
    "\n",
    "# Complete the function to preprocess sentences\n",
    "def preprocess_sentences(sentences):\n",
    "    processed_sentences = []\n",
    "    for sentence in sentences:\n",
    "        sentence = sentence.lower()\n",
    "\t\t# Tokenize the sentence\n",
    "        tokens = tokenizer(sentence)\n",
    "\t\t# Remove stop words\n",
    "        tokens = [token.replace(\"/\", \" \") for token in tokens if token not in stop_words]\n",
    "\t\t# Stem the tokens\n",
    "        tokens = [stemmer.stem(token) for token in tokens]\n",
    "        processed_sentences.append(' '.join(tokens))\n",
    "    return processed_sentences\n",
    "\n",
    "titles_list = cah3_merged2['TITLE'].to_list()\n",
    "\n",
    "processed = preprocess_sentences(titles_list)\n",
    "cah3_merged2['processed'] = processed"
   ]
  },
  {
   "cell_type": "markdown",
   "metadata": {},
   "source": [
    "## EDA"
   ]
  },
  {
   "cell_type": "code",
   "execution_count": 53,
   "metadata": {},
   "outputs": [
    {
     "data": {
      "image/png": "[encoded data removed]",
      "text/plain": [
       "<Figure size 640x480 with 1 Axes>"
      ]
     },
     "metadata": {},
     "output_type": "display_data"
    }
   ],
   "source": [
    "cah3_merged2.hist(\"cat\")\n",
    "plt.show()"
   ]
  },
  {
   "cell_type": "markdown",
   "metadata": {},
   "source": [
    "## Split training, validation and test data"
   ]
  },
  {
   "cell_type": "code",
   "execution_count": 7,
   "metadata": {},
   "outputs": [],
   "source": [
    "train, test_val = train_test_split(cah3_merged2,\n",
    "                               test_size=0.3,\n",
    "                               random_state=42,\n",
    "                               stratify=cah3_merged2.cat\n",
    "                               )\n",
    "val, test = train_test_split(cah3_merged2,\n",
    "                               test_size=0.3,\n",
    "                               random_state=42,\n",
    "                               stratify=cah3_merged2.cat\n",
    "                               )"
   ]
  },
  {
   "cell_type": "code",
   "execution_count": 8,
   "metadata": {},
   "outputs": [],
   "source": [
    "texts = list(train.processed.values)\n",
    "labels = train.cat.to_list()\n",
    "\n",
    "texts_val = list(val.processed.values)\n",
    "labels_val = val.cat.to_list()\n",
    "\n",
    "texts_test = list(test.processed.values)\n",
    "labels_test = test.cat.to_list()"
   ]
  },
  {
   "cell_type": "code",
   "execution_count": 9,
   "metadata": {},
   "outputs": [
    {
     "name": "stderr",
     "output_type": "stream",
     "text": [
      "6475lines [00:00, 113429.17lines/s]\n"
     ]
    }
   ],
   "source": [
    "# Create vocab\n",
    "def build_vocab(texts):\n",
    "    def yield_tokens(texts):\n",
    "        for text in texts:\n",
    "            yield tokenizer(text)\n",
    "    \n",
    "    vocab = build_vocab_from_iterator(yield_tokens(texts))\n",
    "    return vocab\n",
    "\n",
    "vocab = build_vocab(texts)"
   ]
  },
  {
   "cell_type": "markdown",
   "metadata": {},
   "source": [
    "## Initiate model"
   ]
  },
  {
   "cell_type": "code",
   "execution_count": 10,
   "metadata": {},
   "outputs": [],
   "source": [
    "import torch.nn as nn\n",
    "import torch.optim as optim\n",
    "\n",
    "class TextClassificationModel(nn.Module):\n",
    "    def __init__(self, vocab_size, embed_dim, hidden_dim, num_classes):\n",
    "        super(TextClassificationModel, self).__init__()\n",
    "        self.embedding = nn.Embedding(vocab_size, embed_dim)\n",
    "        self.fc1 = nn.Linear(embed_dim, hidden_dim)\n",
    "        self.fc2 = nn.Linear(hidden_dim, num_classes)\n",
    "        self.relu = nn.ReLU()\n",
    "    \n",
    "    def forward(self, x):\n",
    "        embedded = self.embedding(x)\n",
    "        embedded = embedded.mean(dim=1)  # average the embeddings (one way to handle variable-length input)\n",
    "        hidden = self.relu(self.fc1(embedded))\n",
    "        output = self.fc2(hidden)\n",
    "        return output\n",
    "\n",
    "# Parameters\n",
    "vocab_size = len(vocab)\n",
    "embed_dim = 50\n",
    "hidden_dim = 128\n",
    "num_classes = len(cah3_merged2.cat.unique())  # for 3 targets\n",
    "\n",
    "model = TextClassificationModel(vocab_size, embed_dim, hidden_dim, num_classes)\n"
   ]
  },
  {
   "cell_type": "code",
   "execution_count": 11,
   "metadata": {},
   "outputs": [],
   "source": [
    "class TextDataset(Dataset):\n",
    "    def __init__(self, texts, labels, vocab):\n",
    "        self.texts = texts\n",
    "        self.labels = labels\n",
    "        self.vocab = vocab\n",
    "    \n",
    "    def __len__(self):\n",
    "        return len(self.texts)\n",
    "    \n",
    "    def __getitem__(self, idx):\n",
    "        text = self.texts[idx]\n",
    "        label = self.labels[idx]\n",
    "        # Convert text to token indices\n",
    "        tokens = tokenizer(text)\n",
    "        token_ids = torch.tensor([self.vocab[token] for token in tokens], dtype=torch.long)\n",
    "        return token_ids, label\n",
    "\n",
    "\n",
    "def collate_fn(batch):\n",
    "    # Sort the batch by sequence length (descending order)\n",
    "    batch = sorted(batch, key=lambda x: len(x[0]), reverse=True)\n",
    "    \n",
    "    # Unzip the batch into text and labels\n",
    "    texts, labels = zip(*batch)\n",
    "    \n",
    "    # Pad the sequences\n",
    "    padded_texts = pad_sequence(texts, batch_first=True, padding_value=0)  # Assuming 0 is the padding index\n",
    "    \n",
    "    # Convert labels to tensor\n",
    "    labels = torch.tensor(labels, dtype=torch.long)\n",
    "    \n",
    "    return padded_texts, labels\n",
    "\n",
    "\n",
    "# Create dataset and dataloader\n",
    "dataset = TextDataset(texts, labels, vocab)\n",
    "dataloader = DataLoader(dataset, batch_size=2, shuffle=True, collate_fn=collate_fn)\n",
    "\n",
    "val_dataset = TextDataset(texts_val, labels_val, vocab)\n",
    "val_dataloader = DataLoader(dataset, batch_size=2, shuffle=True, collate_fn=collate_fn)"
   ]
  },
  {
   "cell_type": "code",
   "execution_count": 42,
   "metadata": {},
   "outputs": [
    {
     "data": {
      "text/plain": [
       "tensor([0.6113, 0.3421, 0.0466])"
      ]
     },
     "execution_count": 42,
     "metadata": {},
     "output_type": "execute_result"
    }
   ],
   "source": [
    "# Data is inbalanced - need to weight the labels in the loss function\n",
    "class_weights = train.groupby(by=\"cat\").processed.count().reset_index() / len(train)\n",
    "class_weights = torch.FloatTensor(list(class_weights.processed.values))\n",
    "class_weights"
   ]
  },
  {
   "cell_type": "markdown",
   "metadata": {},
   "source": [
    "## Train model"
   ]
  },
  {
   "cell_type": "code",
   "execution_count": 43,
   "metadata": {},
   "outputs": [],
   "source": [
    "# Loss function and optimizer\n",
    "criterion = nn.CrossEntropyLoss(weight = class_weights)  # For multi-class classification, weighted to the classes\n",
    "learning_rates = [0.1, 0.01, 0.001, 0.0001]\n",
    "learning_rate = learning_rates[1]\n",
    "optimizer = optim.Adam(model.parameters(), lr=learning_rate)"
   ]
  },
  {
   "cell_type": "code",
   "execution_count": 44,
   "metadata": {},
   "outputs": [
    {
     "name": "stdout",
     "output_type": "stream",
     "text": [
      "Epoch [1/5], Train Loss: 0.2278, Validation Loss: 0.1353, Accuracy: 93.81%\n",
      "Epoch [2/5], Train Loss: 0.1481, Validation Loss: 0.1149, Accuracy: 93.61%\n",
      "Epoch [3/5], Train Loss: 0.1328, Validation Loss: 0.1312, Accuracy: 93.78%\n",
      "Epoch [4/5], Train Loss: 0.1726, Validation Loss: 0.1177, Accuracy: 94.22%\n",
      "Epoch [5/5], Train Loss: 0.1232, Validation Loss: 0.0886, Accuracy: 94.58%\n"
     ]
    }
   ],
   "source": [
    "num_epochs = 5\n",
    "\n",
    "# Training loop\n",
    "loss_values = []\n",
    "val_loss_values = []\n",
    "\n",
    "# Initialize a list to store the average gradients for each epoch\n",
    "embedding_gradients = []\n",
    "\n",
    "for epoch in range(num_epochs):\n",
    "    model.train()\n",
    "    running_loss = 0.0\n",
    "    epoch_gradient_sum = 0.0\n",
    "    num_batches = 0\n",
    "\n",
    "    for batch_idx, (inputs, targets) in enumerate(dataloader):\n",
    "        optimizer.zero_grad()\n",
    "        \n",
    "        # Forward pass\n",
    "        outputs = model(inputs)\n",
    "        loss = criterion(outputs, targets)\n",
    "        \n",
    "        # Backward pass and optimization\n",
    "        loss.backward()\n",
    "\n",
    "        # Collect gradients for the embedding layer\n",
    "        if 'embedding.weight' in model.state_dict():\n",
    "            # Sum the gradients for this batch\n",
    "            epoch_gradient_sum += model.embedding.weight.grad.abs().mean().item()\n",
    "            num_batches += 1\n",
    "        \n",
    "        optimizer.step()\n",
    "        \n",
    "        running_loss += loss.item()\n",
    "\n",
    "    # Calculate the average gradient for the embedding layer in this epoch\n",
    "    avg_embedding_gradient = epoch_gradient_sum / num_batches if num_batches > 0 else 0\n",
    "    embedding_gradients.append(avg_embedding_gradient)\n",
    "    \n",
    "    epoch_loss = running_loss/len(dataloader)\n",
    "    loss_values.append(epoch_loss)\n",
    "    # print(f\"Epoch {epoch+1}/{num_epochs}, Loss: {epoch_loss}\")\n",
    "\n",
    "    # Validation phase\n",
    "    model.eval()  # Set the model to evaluation mode\n",
    "    running_val_loss = 0.0\n",
    "    correct_predictions = 0\n",
    "    total_predictions = 0\n",
    "    with torch.no_grad():  # We don't need gradients for validation\n",
    "        for inputs, targets in val_dataloader:\n",
    "            outputs = model(inputs)\n",
    "            loss = criterion(outputs, targets)\n",
    "            running_val_loss += loss.item()\n",
    "            \n",
    "            # Compute the number of correct predictions\n",
    "            _, predicted = torch.max(outputs, 1)\n",
    "            correct_predictions += (predicted == targets).sum().item()\n",
    "            total_predictions += targets.size(0)\n",
    "    \n",
    "    # Compute the average validation loss and accuracy for this epoch\n",
    "    avg_val_loss = running_val_loss / len(val_dataloader)\n",
    "    accuracy = correct_predictions / total_predictions * 100\n",
    "    val_loss_values.append(avg_val_loss)\n",
    "    \n",
    "    print(f\"Epoch [{epoch+1}/{num_epochs}], Train Loss: {epoch_loss:.4f}, Validation Loss: {avg_val_loss:.4f}, Accuracy: {accuracy:.2f}%\")\n"
   ]
  },
  {
   "cell_type": "code",
   "execution_count": 45,
   "metadata": {},
   "outputs": [
    {
     "data": {
      "image/png": "[encoded data removed]",
      "text/plain": [
       "<Figure size 640x480 with 1 Axes>"
      ]
     },
     "metadata": {},
     "output_type": "display_data"
    }
   ],
   "source": [
    "# Plot gradients for the embedding layer averaged across epochs\n",
    "plt.plot(embedding_gradients, label='Gradient for embedding layer')\n",
    "plt.title('Average Gradient for Embedding Layer per Epoch')\n",
    "plt.xlabel('Epoch')\n",
    "plt.ylabel('Mean Gradient')\n",
    "plt.legend()\n",
    "plt.show()"
   ]
  },
  {
   "cell_type": "code",
   "execution_count": 46,
   "metadata": {},
   "outputs": [],
   "source": [
    "test_titles_list = test['TITLE'].to_list()\n",
    "\n",
    "test_processed = preprocess_sentences(test_titles_list)\n",
    "test['processed'] = test_processed"
   ]
  },
  {
   "cell_type": "markdown",
   "metadata": {},
   "source": [
    "## Predict on test data"
   ]
  },
  {
   "cell_type": "code",
   "execution_count": 47,
   "metadata": {},
   "outputs": [],
   "source": [
    "def predict(model, text, vocab):\n",
    "    model.eval()\n",
    "    tokens = tokenizer(text)\n",
    "    token_ids = torch.tensor([vocab[token] for token in tokens], dtype=torch.long).unsqueeze(0)  # Add batch dimension\n",
    "    with torch.no_grad():\n",
    "        output = model(token_ids)\n",
    "        _, predicted = torch.max(output, 1)\n",
    "    return predicted.item()\n",
    "\n",
    "# Example prediction\n",
    "test_processed = preprocess_sentences(test['TITLE'].to_list())\n",
    "preds = []\n",
    "for i in range(len(test)):\n",
    "    sentence = test_processed[i]\n",
    "    predicted_class = predict(model, sentence, vocab)\n",
    "    preds.append(predicted_class)\n",
    "    # print(f\"Predicted class: {predicted_class}\")\n",
    "\n",
    "test['preds'] = preds"
   ]
  },
  {
   "cell_type": "code",
   "execution_count": 48,
   "metadata": {},
   "outputs": [
    {
     "name": "stdout",
     "output_type": "stream",
     "text": [
      "Test Loss: 0.8677\n",
      "Test Accuracy: 92.15%\n"
     ]
    }
   ],
   "source": [
    "test_dataset = TextDataset(texts_test, labels_test, vocab)\n",
    "\n",
    "# Create DataLoader for the test set\n",
    "test_dataloader = DataLoader(test_dataset, batch_size=2, shuffle=False, collate_fn=collate_fn)\n",
    "\n",
    "def evaluate_model(model, test_dataloader, criterion):\n",
    "    model.eval()  # Set the model to evaluation mode\n",
    "    running_test_loss = 0.0\n",
    "    correct_predictions = 0\n",
    "    total_predictions = 0\n",
    "    \n",
    "    with torch.no_grad():  # We don't need gradients for evaluation\n",
    "        for inputs, targets in test_dataloader:\n",
    "            outputs = model(inputs)\n",
    "            loss = criterion(outputs, targets)\n",
    "            running_test_loss += loss.item()\n",
    "\n",
    "            # Compute the number of correct predictions\n",
    "            _, predicted = torch.max(outputs, 1)\n",
    "            correct_predictions += (predicted == targets).sum().item()\n",
    "            total_predictions += targets.size(0)\n",
    "    \n",
    "    # Compute the average test loss and accuracy\n",
    "    avg_test_loss = running_test_loss / len(test_dataloader)\n",
    "    accuracy = correct_predictions / total_predictions * 100\n",
    "    \n",
    "    return avg_test_loss, accuracy\n",
    "\n",
    "test_loss, test_accuracy = evaluate_model(model, test_dataloader, criterion)\n",
    "\n",
    "print(f\"Test Loss: {test_loss:.4f}\")\n",
    "print(f\"Test Accuracy: {test_accuracy:.2f}%\")"
   ]
  },
  {
   "cell_type": "markdown",
   "metadata": {},
   "source": [
    "## Evaluate performance"
   ]
  },
  {
   "cell_type": "code",
   "execution_count": 51,
   "metadata": {},
   "outputs": [
    {
     "name": "stdout",
     "output_type": "stream",
     "text": [
      "Model - Accuracy: 0.926152765750885, Precision: 0.926152765750885, Recall: 0.926152765750885, F1 Score: 0.926152765750885\n"
     ]
    }
   ],
   "source": [
    "# Create an instance of the metrics\n",
    "accuracy = Accuracy(task=\"multiclass\", num_classes=3)\n",
    "precision = Precision(task=\"multiclass\", num_classes=3)\n",
    "recall = Recall(task=\"multiclass\", num_classes=3)\n",
    "f1 = F1Score(task=\"multiclass\", num_classes=3)\n",
    "\n",
    "# Calculate metrics for the model - overall metrics not that important here because of the class imbalance\n",
    "actual = torch.tensor(test.cat.to_list())\n",
    "pred = torch.tensor(preds)\n",
    "accuracy_1 = accuracy(pred, actual) # y_pred_lstm = predictions, y_test = actual\n",
    "precision_1 = precision(pred, actual)\n",
    "recall_1 = recall(pred, actual)\n",
    "f1_1 = f1(pred, actual)\n",
    "print(\"Model - Accuracy: {}, Precision: {}, Recall: {}, F1 Score: {}\".format(accuracy_1, precision_1, recall_1, f1_1))\n"
   ]
  },
  {
   "cell_type": "code",
   "execution_count": 50,
   "metadata": {},
   "outputs": [
    {
     "name": "stdout",
     "output_type": "stream",
     "text": [
      "precision: [0.93122886 0.92020725 0.83783784]\n",
      "recall: [0.9740566  0.93473684 0.23846154]\n",
      "fscore: [0.95216138 0.92741514 0.37125749]\n",
      "support: [1696  950  130]\n"
     ]
    }
   ],
   "source": [
    "precision, recall, fscore, support = score(actual, pred)\n",
    "\n",
    "print('precision: {}'.format(precision))\n",
    "print('recall: {}'.format(recall))\n",
    "print('fscore: {}'.format(fscore))\n",
    "print('support: {}'.format(support))"
   ]
  }
 ],
 "metadata": {
  "kernelspec": {
   "display_name": "he_intel",
   "language": "python",
   "name": "python3"
  },
  "language_info": {
   "codemirror_mode": {
    "name": "ipython",
    "version": 3
   },
   "file_extension": ".py",
   "mimetype": "text/x-python",
   "name": "python",
   "nbconvert_exporter": "python",
   "pygments_lexer": "ipython3",
   "version": "3.13.1"
  }
 },
 "nbformat": 4,
 "nbformat_minor": 2
}
